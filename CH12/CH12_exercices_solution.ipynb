{
 "cells": [
  {
   "cell_type": "code",
   "execution_count": 1,
   "id": "4e65e3f7",
   "metadata": {
    "tags": []
   },
   "outputs": [
    {
     "name": "stderr",
     "output_type": "stream",
     "text": [
      "2023-04-02 11:14:19.542898: I tensorflow/core/platform/cpu_feature_guard.cc:193] This TensorFlow binary is optimized with oneAPI Deep Neural Network Library (oneDNN) to use the following CPU instructions in performance-critical operations:  SSE4.1 SSE4.2 AVX AVX2 FMA\n",
      "To enable them in other operations, rebuild TensorFlow with the appropriate compiler flags.\n"
     ]
    }
   ],
   "source": [
    "import datetime\n",
    "\n",
    "import numpy as np\n",
    "import pandas as pd\n",
    "import tensorflow as tf\n",
    "import matplotlib.pyplot as plt\n",
    "\n",
    "import warnings\n",
    "warnings.filterwarnings('ignore')"
   ]
  },
  {
   "cell_type": "code",
   "execution_count": 2,
   "id": "b8f765ef",
   "metadata": {
    "tags": []
   },
   "outputs": [],
   "source": [
    "plt.rcParams['figure.figsize'] = (10, 7.5)\n",
    "plt.rcParams['axes.grid'] = False"
   ]
  },
  {
   "cell_type": "code",
   "execution_count": 3,
   "id": "2bdc8623",
   "metadata": {
    "tags": []
   },
   "outputs": [],
   "source": [
    "tf.random.set_seed(42)\n",
    "np.random.seed(42)"
   ]
  },
  {
   "cell_type": "markdown",
   "id": "ea2e4383",
   "metadata": {},
   "source": [
    "## Read the data "
   ]
  },
  {
   "cell_type": "markdown",
   "id": "9f2dabde",
   "metadata": {},
   "source": [
    "Source: https://archive.ics.uci.edu/ml/datasets/Beijing+Multi-Site+Air-Quality+Data"
   ]
  },
  {
   "cell_type": "code",
   "execution_count": 4,
   "id": "8bfc3766",
   "metadata": {
    "tags": []
   },
   "outputs": [
    {
     "data": {
      "text/html": [
       "<div>\n",
       "<style scoped>\n",
       "    .dataframe tbody tr th:only-of-type {\n",
       "        vertical-align: middle;\n",
       "    }\n",
       "\n",
       "    .dataframe tbody tr th {\n",
       "        vertical-align: top;\n",
       "    }\n",
       "\n",
       "    .dataframe thead th {\n",
       "        text-align: right;\n",
       "    }\n",
       "</style>\n",
       "<table border=\"1\" class=\"dataframe\">\n",
       "  <thead>\n",
       "    <tr style=\"text-align: right;\">\n",
       "      <th></th>\n",
       "      <th>No</th>\n",
       "      <th>PM2.5</th>\n",
       "      <th>PM10</th>\n",
       "      <th>SO2</th>\n",
       "      <th>NO2</th>\n",
       "      <th>CO</th>\n",
       "      <th>O3</th>\n",
       "      <th>TEMP</th>\n",
       "      <th>PRES</th>\n",
       "      <th>DEWP</th>\n",
       "      <th>RAIN</th>\n",
       "      <th>wd</th>\n",
       "      <th>WSPM</th>\n",
       "      <th>station</th>\n",
       "      <th>datetime</th>\n",
       "    </tr>\n",
       "  </thead>\n",
       "  <tbody>\n",
       "    <tr>\n",
       "      <th>0</th>\n",
       "      <td>16151</td>\n",
       "      <td>118.0</td>\n",
       "      <td>147.0</td>\n",
       "      <td>58.0</td>\n",
       "      <td>100.0</td>\n",
       "      <td>2000.0</td>\n",
       "      <td>2.0</td>\n",
       "      <td>-5.0</td>\n",
       "      <td>1021.0</td>\n",
       "      <td>-17.2</td>\n",
       "      <td>0.0</td>\n",
       "      <td>SW</td>\n",
       "      <td>0.7</td>\n",
       "      <td>Aotizhongxin</td>\n",
       "      <td>2015-01-02 22:00:00</td>\n",
       "    </tr>\n",
       "    <tr>\n",
       "      <th>1</th>\n",
       "      <td>16152</td>\n",
       "      <td>137.0</td>\n",
       "      <td>179.0</td>\n",
       "      <td>63.0</td>\n",
       "      <td>101.0</td>\n",
       "      <td>2100.0</td>\n",
       "      <td>2.0</td>\n",
       "      <td>-6.0</td>\n",
       "      <td>1018.0</td>\n",
       "      <td>-14.3</td>\n",
       "      <td>0.0</td>\n",
       "      <td>NNW</td>\n",
       "      <td>0.7</td>\n",
       "      <td>Aotizhongxin</td>\n",
       "      <td>2015-01-02 23:00:00</td>\n",
       "    </tr>\n",
       "    <tr>\n",
       "      <th>2</th>\n",
       "      <td>16153</td>\n",
       "      <td>141.0</td>\n",
       "      <td>215.0</td>\n",
       "      <td>59.0</td>\n",
       "      <td>100.0</td>\n",
       "      <td>2300.0</td>\n",
       "      <td>2.0</td>\n",
       "      <td>-7.0</td>\n",
       "      <td>1016.0</td>\n",
       "      <td>-15.9</td>\n",
       "      <td>0.0</td>\n",
       "      <td>SSE</td>\n",
       "      <td>0.4</td>\n",
       "      <td>Aotizhongxin</td>\n",
       "      <td>2015-01-03 00:00:00</td>\n",
       "    </tr>\n",
       "    <tr>\n",
       "      <th>3</th>\n",
       "      <td>16154</td>\n",
       "      <td>136.0</td>\n",
       "      <td>158.0</td>\n",
       "      <td>65.0</td>\n",
       "      <td>106.0</td>\n",
       "      <td>3000.0</td>\n",
       "      <td>2.0</td>\n",
       "      <td>-7.0</td>\n",
       "      <td>1016.0</td>\n",
       "      <td>-12.7</td>\n",
       "      <td>0.0</td>\n",
       "      <td>ESE</td>\n",
       "      <td>0.4</td>\n",
       "      <td>Aotizhongxin</td>\n",
       "      <td>2015-01-03 01:00:00</td>\n",
       "    </tr>\n",
       "    <tr>\n",
       "      <th>4</th>\n",
       "      <td>16155</td>\n",
       "      <td>132.0</td>\n",
       "      <td>163.0</td>\n",
       "      <td>56.0</td>\n",
       "      <td>107.0</td>\n",
       "      <td>3000.0</td>\n",
       "      <td>2.0</td>\n",
       "      <td>-6.0</td>\n",
       "      <td>1014.0</td>\n",
       "      <td>-16.9</td>\n",
       "      <td>0.0</td>\n",
       "      <td>NE</td>\n",
       "      <td>1.1</td>\n",
       "      <td>Aotizhongxin</td>\n",
       "      <td>2015-01-03 02:00:00</td>\n",
       "    </tr>\n",
       "  </tbody>\n",
       "</table>\n",
       "</div>"
      ],
      "text/plain": [
       "      No  PM2.5   PM10   SO2    NO2      CO   O3  TEMP    PRES  DEWP  RAIN  \\\n",
       "0  16151  118.0  147.0  58.0  100.0  2000.0  2.0  -5.0  1021.0 -17.2   0.0   \n",
       "1  16152  137.0  179.0  63.0  101.0  2100.0  2.0  -6.0  1018.0 -14.3   0.0   \n",
       "2  16153  141.0  215.0  59.0  100.0  2300.0  2.0  -7.0  1016.0 -15.9   0.0   \n",
       "3  16154  136.0  158.0  65.0  106.0  3000.0  2.0  -7.0  1016.0 -12.7   0.0   \n",
       "4  16155  132.0  163.0  56.0  107.0  3000.0  2.0  -6.0  1014.0 -16.9   0.0   \n",
       "\n",
       "    wd  WSPM       station             datetime  \n",
       "0   SW   0.7  Aotizhongxin  2015-01-02 22:00:00  \n",
       "1  NNW   0.7  Aotizhongxin  2015-01-02 23:00:00  \n",
       "2  SSE   0.4  Aotizhongxin  2015-01-03 00:00:00  \n",
       "3  ESE   0.4  Aotizhongxin  2015-01-03 01:00:00  \n",
       "4   NE   1.1  Aotizhongxin  2015-01-03 02:00:00  "
      ]
     },
     "execution_count": 4,
     "metadata": {},
     "output_type": "execute_result"
    }
   ],
   "source": [
    "df = pd.read_csv('../data/beijing_air_quality.csv')\n",
    "df.head()"
   ]
  },
  {
   "cell_type": "code",
   "execution_count": 5,
   "id": "ba6a5348",
   "metadata": {
    "tags": []
   },
   "outputs": [
    {
     "data": {
      "text/html": [
       "<div>\n",
       "<style scoped>\n",
       "    .dataframe tbody tr th:only-of-type {\n",
       "        vertical-align: middle;\n",
       "    }\n",
       "\n",
       "    .dataframe tbody tr th {\n",
       "        vertical-align: top;\n",
       "    }\n",
       "\n",
       "    .dataframe thead th {\n",
       "        text-align: right;\n",
       "    }\n",
       "</style>\n",
       "<table border=\"1\" class=\"dataframe\">\n",
       "  <thead>\n",
       "    <tr style=\"text-align: right;\">\n",
       "      <th></th>\n",
       "      <th>No</th>\n",
       "      <th>PM2.5</th>\n",
       "      <th>PM10</th>\n",
       "      <th>SO2</th>\n",
       "      <th>NO2</th>\n",
       "      <th>CO</th>\n",
       "      <th>O3</th>\n",
       "      <th>TEMP</th>\n",
       "      <th>PRES</th>\n",
       "      <th>DEWP</th>\n",
       "      <th>RAIN</th>\n",
       "      <th>wd</th>\n",
       "      <th>WSPM</th>\n",
       "      <th>station</th>\n",
       "      <th>datetime</th>\n",
       "    </tr>\n",
       "  </thead>\n",
       "  <tbody>\n",
       "    <tr>\n",
       "      <th>18909</th>\n",
       "      <td>35060</td>\n",
       "      <td>12.0</td>\n",
       "      <td>29.0</td>\n",
       "      <td>5.0</td>\n",
       "      <td>35.0</td>\n",
       "      <td>400.0</td>\n",
       "      <td>95.0</td>\n",
       "      <td>12.5</td>\n",
       "      <td>1013.5</td>\n",
       "      <td>-16.2</td>\n",
       "      <td>0.0</td>\n",
       "      <td>NW</td>\n",
       "      <td>2.4</td>\n",
       "      <td>Aotizhongxin</td>\n",
       "      <td>2017-02-28 19:00:00</td>\n",
       "    </tr>\n",
       "    <tr>\n",
       "      <th>18910</th>\n",
       "      <td>35061</td>\n",
       "      <td>13.0</td>\n",
       "      <td>37.0</td>\n",
       "      <td>7.0</td>\n",
       "      <td>45.0</td>\n",
       "      <td>500.0</td>\n",
       "      <td>81.0</td>\n",
       "      <td>11.6</td>\n",
       "      <td>1013.6</td>\n",
       "      <td>-15.1</td>\n",
       "      <td>0.0</td>\n",
       "      <td>WNW</td>\n",
       "      <td>0.9</td>\n",
       "      <td>Aotizhongxin</td>\n",
       "      <td>2017-02-28 20:00:00</td>\n",
       "    </tr>\n",
       "    <tr>\n",
       "      <th>18911</th>\n",
       "      <td>35062</td>\n",
       "      <td>16.0</td>\n",
       "      <td>37.0</td>\n",
       "      <td>10.0</td>\n",
       "      <td>66.0</td>\n",
       "      <td>700.0</td>\n",
       "      <td>58.0</td>\n",
       "      <td>10.8</td>\n",
       "      <td>1014.2</td>\n",
       "      <td>-13.3</td>\n",
       "      <td>0.0</td>\n",
       "      <td>NW</td>\n",
       "      <td>1.1</td>\n",
       "      <td>Aotizhongxin</td>\n",
       "      <td>2017-02-28 21:00:00</td>\n",
       "    </tr>\n",
       "    <tr>\n",
       "      <th>18912</th>\n",
       "      <td>35063</td>\n",
       "      <td>21.0</td>\n",
       "      <td>44.0</td>\n",
       "      <td>12.0</td>\n",
       "      <td>87.0</td>\n",
       "      <td>700.0</td>\n",
       "      <td>35.0</td>\n",
       "      <td>10.5</td>\n",
       "      <td>1014.4</td>\n",
       "      <td>-12.9</td>\n",
       "      <td>0.0</td>\n",
       "      <td>NNW</td>\n",
       "      <td>1.2</td>\n",
       "      <td>Aotizhongxin</td>\n",
       "      <td>2017-02-28 22:00:00</td>\n",
       "    </tr>\n",
       "    <tr>\n",
       "      <th>18913</th>\n",
       "      <td>35064</td>\n",
       "      <td>19.0</td>\n",
       "      <td>31.0</td>\n",
       "      <td>10.0</td>\n",
       "      <td>79.0</td>\n",
       "      <td>600.0</td>\n",
       "      <td>42.0</td>\n",
       "      <td>8.6</td>\n",
       "      <td>1014.1</td>\n",
       "      <td>-15.9</td>\n",
       "      <td>0.0</td>\n",
       "      <td>NNE</td>\n",
       "      <td>1.3</td>\n",
       "      <td>Aotizhongxin</td>\n",
       "      <td>2017-02-28 23:00:00</td>\n",
       "    </tr>\n",
       "  </tbody>\n",
       "</table>\n",
       "</div>"
      ],
      "text/plain": [
       "          No  PM2.5  PM10   SO2   NO2     CO    O3  TEMP    PRES  DEWP  RAIN  \\\n",
       "18909  35060   12.0  29.0   5.0  35.0  400.0  95.0  12.5  1013.5 -16.2   0.0   \n",
       "18910  35061   13.0  37.0   7.0  45.0  500.0  81.0  11.6  1013.6 -15.1   0.0   \n",
       "18911  35062   16.0  37.0  10.0  66.0  700.0  58.0  10.8  1014.2 -13.3   0.0   \n",
       "18912  35063   21.0  44.0  12.0  87.0  700.0  35.0  10.5  1014.4 -12.9   0.0   \n",
       "18913  35064   19.0  31.0  10.0  79.0  600.0  42.0   8.6  1014.1 -15.9   0.0   \n",
       "\n",
       "        wd  WSPM       station             datetime  \n",
       "18909   NW   2.4  Aotizhongxin  2017-02-28 19:00:00  \n",
       "18910  WNW   0.9  Aotizhongxin  2017-02-28 20:00:00  \n",
       "18911   NW   1.1  Aotizhongxin  2017-02-28 21:00:00  \n",
       "18912  NNW   1.2  Aotizhongxin  2017-02-28 22:00:00  \n",
       "18913  NNE   1.3  Aotizhongxin  2017-02-28 23:00:00  "
      ]
     },
     "execution_count": 5,
     "metadata": {},
     "output_type": "execute_result"
    }
   ],
   "source": [
    "df.tail()"
   ]
  },
  {
   "cell_type": "code",
   "execution_count": 6,
   "id": "2e8ed982",
   "metadata": {
    "tags": []
   },
   "outputs": [
    {
     "data": {
      "text/plain": [
       "(18914, 15)"
      ]
     },
     "execution_count": 6,
     "metadata": {},
     "output_type": "execute_result"
    }
   ],
   "source": [
    "df.shape"
   ]
  },
  {
   "cell_type": "markdown",
   "id": "ab04ad46",
   "metadata": {},
   "source": [
    "## Plot target "
   ]
  },
  {
   "cell_type": "code",
   "execution_count": 7,
   "id": "7c11ad64",
   "metadata": {
    "tags": []
   },
   "outputs": [
    {
     "data": {
      "image/png": "[encoded data removed]",
      "text/plain": [
       "<Figure size 1000x750 with 1 Axes>"
      ]
     },
     "metadata": {},
     "output_type": "display_data"
    }
   ],
   "source": [
    "fig, ax = plt.subplots()\n",
    "\n",
    "ax.plot(df['NO2'])\n",
    "ax.set_xlabel('Time')\n",
    "ax.set_ylabel('NO2 concentration (ug/m^3)')\n",
    "\n",
    "plt.xticks(np.arange(2, 400, 24), ['2015-01-03', '2015-01-04', '2015-01-05', '2015-01-06', '2015-01-07', '2015-01-08', '2015-01-09', '2015-01-10', '2015-01-11', '2015-01-12', '2015-01-13', '2015-01-14', '2015-01-15', '2015-01-16', '2015-01-17', '2015-01-18', '2015-01-19'])\n",
    "plt.ylim(0, 650)\n",
    "plt.xlim(0, 400)\n",
    "\n",
    "fig.autofmt_xdate()\n",
    "plt.tight_layout()"
   ]
  },
  {
   "cell_type": "markdown",
   "id": "1eddb225",
   "metadata": {},
   "source": [
    "## Exploration "
   ]
  },
  {
   "cell_type": "code",
   "execution_count": 8,
   "id": "f245f61d",
   "metadata": {
    "tags": []
   },
   "outputs": [
    {
     "data": {
      "text/html": [
       "<div>\n",
       "<style scoped>\n",
       "    .dataframe tbody tr th:only-of-type {\n",
       "        vertical-align: middle;\n",
       "    }\n",
       "\n",
       "    .dataframe tbody tr th {\n",
       "        vertical-align: top;\n",
       "    }\n",
       "\n",
       "    .dataframe thead th {\n",
       "        text-align: right;\n",
       "    }\n",
       "</style>\n",
       "<table border=\"1\" class=\"dataframe\">\n",
       "  <thead>\n",
       "    <tr style=\"text-align: right;\">\n",
       "      <th></th>\n",
       "      <th>count</th>\n",
       "      <th>mean</th>\n",
       "      <th>std</th>\n",
       "      <th>min</th>\n",
       "      <th>25%</th>\n",
       "      <th>50%</th>\n",
       "      <th>75%</th>\n",
       "      <th>max</th>\n",
       "    </tr>\n",
       "  </thead>\n",
       "  <tbody>\n",
       "    <tr>\n",
       "      <th>No</th>\n",
       "      <td>18914.0</td>\n",
       "      <td>25607.500000</td>\n",
       "      <td>5460.145831</td>\n",
       "      <td>16151.0</td>\n",
       "      <td>20879.250</td>\n",
       "      <td>25607.5</td>\n",
       "      <td>30335.75</td>\n",
       "      <td>35064.0</td>\n",
       "    </tr>\n",
       "    <tr>\n",
       "      <th>PM2.5</th>\n",
       "      <td>18914.0</td>\n",
       "      <td>79.407220</td>\n",
       "      <td>83.816615</td>\n",
       "      <td>3.0</td>\n",
       "      <td>19.000</td>\n",
       "      <td>54.0</td>\n",
       "      <td>107.00</td>\n",
       "      <td>898.0</td>\n",
       "    </tr>\n",
       "    <tr>\n",
       "      <th>PM10</th>\n",
       "      <td>18914.0</td>\n",
       "      <td>103.687485</td>\n",
       "      <td>95.725767</td>\n",
       "      <td>3.0</td>\n",
       "      <td>33.225</td>\n",
       "      <td>78.0</td>\n",
       "      <td>143.00</td>\n",
       "      <td>984.0</td>\n",
       "    </tr>\n",
       "    <tr>\n",
       "      <th>SO2</th>\n",
       "      <td>18914.0</td>\n",
       "      <td>13.201725</td>\n",
       "      <td>17.090182</td>\n",
       "      <td>2.0</td>\n",
       "      <td>2.000</td>\n",
       "      <td>7.0</td>\n",
       "      <td>16.00</td>\n",
       "      <td>341.0</td>\n",
       "    </tr>\n",
       "    <tr>\n",
       "      <th>NO2</th>\n",
       "      <td>18914.0</td>\n",
       "      <td>55.560272</td>\n",
       "      <td>37.834273</td>\n",
       "      <td>2.0</td>\n",
       "      <td>26.000</td>\n",
       "      <td>47.0</td>\n",
       "      <td>77.00</td>\n",
       "      <td>290.0</td>\n",
       "    </tr>\n",
       "    <tr>\n",
       "      <th>CO</th>\n",
       "      <td>18914.0</td>\n",
       "      <td>1324.737573</td>\n",
       "      <td>1351.213878</td>\n",
       "      <td>100.0</td>\n",
       "      <td>500.000</td>\n",
       "      <td>900.0</td>\n",
       "      <td>1600.00</td>\n",
       "      <td>10000.0</td>\n",
       "    </tr>\n",
       "    <tr>\n",
       "      <th>O3</th>\n",
       "      <td>18914.0</td>\n",
       "      <td>61.602319</td>\n",
       "      <td>58.980450</td>\n",
       "      <td>2.0</td>\n",
       "      <td>13.000</td>\n",
       "      <td>49.0</td>\n",
       "      <td>87.00</td>\n",
       "      <td>423.0</td>\n",
       "    </tr>\n",
       "    <tr>\n",
       "      <th>TEMP</th>\n",
       "      <td>18914.0</td>\n",
       "      <td>12.741331</td>\n",
       "      <td>11.751367</td>\n",
       "      <td>-16.8</td>\n",
       "      <td>2.000</td>\n",
       "      <td>13.0</td>\n",
       "      <td>23.10</td>\n",
       "      <td>38.8</td>\n",
       "    </tr>\n",
       "    <tr>\n",
       "      <th>PRES</th>\n",
       "      <td>18914.0</td>\n",
       "      <td>1013.480721</td>\n",
       "      <td>10.470266</td>\n",
       "      <td>987.5</td>\n",
       "      <td>1004.900</td>\n",
       "      <td>1013.2</td>\n",
       "      <td>1022.10</td>\n",
       "      <td>1042.0</td>\n",
       "    </tr>\n",
       "    <tr>\n",
       "      <th>DEWP</th>\n",
       "      <td>18914.0</td>\n",
       "      <td>1.399363</td>\n",
       "      <td>13.830859</td>\n",
       "      <td>-35.3</td>\n",
       "      <td>-10.100</td>\n",
       "      <td>1.3</td>\n",
       "      <td>14.00</td>\n",
       "      <td>27.3</td>\n",
       "    </tr>\n",
       "    <tr>\n",
       "      <th>RAIN</th>\n",
       "      <td>18914.0</td>\n",
       "      <td>0.070983</td>\n",
       "      <td>0.901064</td>\n",
       "      <td>0.0</td>\n",
       "      <td>0.000</td>\n",
       "      <td>0.0</td>\n",
       "      <td>0.00</td>\n",
       "      <td>46.4</td>\n",
       "    </tr>\n",
       "    <tr>\n",
       "      <th>WSPM</th>\n",
       "      <td>18914.0</td>\n",
       "      <td>1.883097</td>\n",
       "      <td>1.222795</td>\n",
       "      <td>0.0</td>\n",
       "      <td>1.000</td>\n",
       "      <td>1.6</td>\n",
       "      <td>2.40</td>\n",
       "      <td>11.2</td>\n",
       "    </tr>\n",
       "  </tbody>\n",
       "</table>\n",
       "</div>"
      ],
      "text/plain": [
       "         count          mean          std      min        25%      50%  \\\n",
       "No     18914.0  25607.500000  5460.145831  16151.0  20879.250  25607.5   \n",
       "PM2.5  18914.0     79.407220    83.816615      3.0     19.000     54.0   \n",
       "PM10   18914.0    103.687485    95.725767      3.0     33.225     78.0   \n",
       "SO2    18914.0     13.201725    17.090182      2.0      2.000      7.0   \n",
       "NO2    18914.0     55.560272    37.834273      2.0     26.000     47.0   \n",
       "CO     18914.0   1324.737573  1351.213878    100.0    500.000    900.0   \n",
       "O3     18914.0     61.602319    58.980450      2.0     13.000     49.0   \n",
       "TEMP   18914.0     12.741331    11.751367    -16.8      2.000     13.0   \n",
       "PRES   18914.0   1013.480721    10.470266    987.5   1004.900   1013.2   \n",
       "DEWP   18914.0      1.399363    13.830859    -35.3    -10.100      1.3   \n",
       "RAIN   18914.0      0.070983     0.901064      0.0      0.000      0.0   \n",
       "WSPM   18914.0      1.883097     1.222795      0.0      1.000      1.6   \n",
       "\n",
       "            75%      max  \n",
       "No     30335.75  35064.0  \n",
       "PM2.5    107.00    898.0  \n",
       "PM10     143.00    984.0  \n",
       "SO2       16.00    341.0  \n",
       "NO2       77.00    290.0  \n",
       "CO      1600.00  10000.0  \n",
       "O3        87.00    423.0  \n",
       "TEMP      23.10     38.8  \n",
       "PRES    1022.10   1042.0  \n",
       "DEWP      14.00     27.3  \n",
       "RAIN       0.00     46.4  \n",
       "WSPM       2.40     11.2  "
      ]
     },
     "execution_count": 8,
     "metadata": {},
     "output_type": "execute_result"
    }
   ],
   "source": [
    "df.describe().transpose()"
   ]
  },
  {
   "cell_type": "code",
   "execution_count": 9,
   "id": "964b10af",
   "metadata": {
    "tags": []
   },
   "outputs": [
    {
     "data": {
      "text/plain": [
       "(18914, 11)"
      ]
     },
     "execution_count": 9,
     "metadata": {},
     "output_type": "execute_result"
    }
   ],
   "source": [
    "cols_to_drop = ['RAIN', 'wd', 'No', 'station']\n",
    "\n",
    "df = df.drop(cols_to_drop, axis=1)\n",
    "\n",
    "df.shape"
   ]
  },
  {
   "cell_type": "code",
   "execution_count": 10,
   "id": "68db0974",
   "metadata": {
    "tags": []
   },
   "outputs": [
    {
     "name": "stderr",
     "output_type": "stream",
     "text": [
      "2023-04-02 11:20:14.934262: I tensorflow/core/platform/cpu_feature_guard.cc:193] This TensorFlow binary is optimized with oneAPI Deep Neural Network Library (oneDNN) to use the following CPU instructions in performance-critical operations:  SSE4.1 SSE4.2 AVX AVX2 FMA\n",
      "To enable them in other operations, rebuild TensorFlow with the appropriate compiler flags.\n"
     ]
    },
    {
     "data": {
      "image/png": "[encoded data removed]",
      "text/plain": [
       "<Figure size 1000x750 with 1 Axes>"
      ]
     },
     "metadata": {},
     "output_type": "display_data"
    }
   ],
   "source": [
    "timestamp_s = pd.to_datetime(df.datetime).map(datetime.datetime.timestamp)\n",
    "\n",
    "fft = tf.signal.rfft(df['NO2'])\n",
    "f_per_dataset = np.arange(0, len(fft))\n",
    "\n",
    "n_sample_h = len(df['NO2'])\n",
    "hours_per_week = 24 * 7\n",
    "weeks_per_dataset = n_sample_h / hours_per_week\n",
    "\n",
    "f_per_week = f_per_dataset / weeks_per_dataset\n",
    "\n",
    "plt.step(f_per_week, np.abs(fft))\n",
    "plt.xscale('log')\n",
    "plt.xticks([1, 7], ['1/week', '1/day'])\n",
    "plt.xlabel('Frequency')\n",
    "plt.tight_layout()\n",
    "plt.show()"
   ]
  },
  {
   "cell_type": "code",
   "execution_count": 11,
   "id": "af671195",
   "metadata": {
    "tags": []
   },
   "outputs": [],
   "source": [
    "day = 24 * 60 * 60\n",
    "\n",
    "df['day_sin'] = (np.sin(timestamp_s * (2*np.pi/day))).values\n",
    "df['day_cos'] = (np.cos(timestamp_s * (2*np.pi/day))).values"
   ]
  },
  {
   "cell_type": "code",
   "execution_count": 12,
   "id": "a89abfab",
   "metadata": {
    "tags": []
   },
   "outputs": [
    {
     "data": {
      "text/html": [
       "<div>\n",
       "<style scoped>\n",
       "    .dataframe tbody tr th:only-of-type {\n",
       "        vertical-align: middle;\n",
       "    }\n",
       "\n",
       "    .dataframe tbody tr th {\n",
       "        vertical-align: top;\n",
       "    }\n",
       "\n",
       "    .dataframe thead th {\n",
       "        text-align: right;\n",
       "    }\n",
       "</style>\n",
       "<table border=\"1\" class=\"dataframe\">\n",
       "  <thead>\n",
       "    <tr style=\"text-align: right;\">\n",
       "      <th></th>\n",
       "      <th>PM2.5</th>\n",
       "      <th>PM10</th>\n",
       "      <th>SO2</th>\n",
       "      <th>NO2</th>\n",
       "      <th>CO</th>\n",
       "      <th>O3</th>\n",
       "      <th>TEMP</th>\n",
       "      <th>PRES</th>\n",
       "      <th>DEWP</th>\n",
       "      <th>WSPM</th>\n",
       "      <th>day_sin</th>\n",
       "      <th>day_cos</th>\n",
       "    </tr>\n",
       "  </thead>\n",
       "  <tbody>\n",
       "    <tr>\n",
       "      <th>0</th>\n",
       "      <td>118.0</td>\n",
       "      <td>147.0</td>\n",
       "      <td>58.0</td>\n",
       "      <td>100.0</td>\n",
       "      <td>2000.0</td>\n",
       "      <td>2.0</td>\n",
       "      <td>-5.0</td>\n",
       "      <td>1021.0</td>\n",
       "      <td>-17.2</td>\n",
       "      <td>0.7</td>\n",
       "      <td>0.866025</td>\n",
       "      <td>5.000000e-01</td>\n",
       "    </tr>\n",
       "    <tr>\n",
       "      <th>1</th>\n",
       "      <td>137.0</td>\n",
       "      <td>179.0</td>\n",
       "      <td>63.0</td>\n",
       "      <td>101.0</td>\n",
       "      <td>2100.0</td>\n",
       "      <td>2.0</td>\n",
       "      <td>-6.0</td>\n",
       "      <td>1018.0</td>\n",
       "      <td>-14.3</td>\n",
       "      <td>0.7</td>\n",
       "      <td>0.965926</td>\n",
       "      <td>2.588190e-01</td>\n",
       "    </tr>\n",
       "    <tr>\n",
       "      <th>2</th>\n",
       "      <td>141.0</td>\n",
       "      <td>215.0</td>\n",
       "      <td>59.0</td>\n",
       "      <td>100.0</td>\n",
       "      <td>2300.0</td>\n",
       "      <td>2.0</td>\n",
       "      <td>-7.0</td>\n",
       "      <td>1016.0</td>\n",
       "      <td>-15.9</td>\n",
       "      <td>0.4</td>\n",
       "      <td>1.000000</td>\n",
       "      <td>7.285825e-12</td>\n",
       "    </tr>\n",
       "    <tr>\n",
       "      <th>3</th>\n",
       "      <td>136.0</td>\n",
       "      <td>158.0</td>\n",
       "      <td>65.0</td>\n",
       "      <td>106.0</td>\n",
       "      <td>3000.0</td>\n",
       "      <td>2.0</td>\n",
       "      <td>-7.0</td>\n",
       "      <td>1016.0</td>\n",
       "      <td>-12.7</td>\n",
       "      <td>0.4</td>\n",
       "      <td>0.965926</td>\n",
       "      <td>-2.588190e-01</td>\n",
       "    </tr>\n",
       "    <tr>\n",
       "      <th>4</th>\n",
       "      <td>132.0</td>\n",
       "      <td>163.0</td>\n",
       "      <td>56.0</td>\n",
       "      <td>107.0</td>\n",
       "      <td>3000.0</td>\n",
       "      <td>2.0</td>\n",
       "      <td>-6.0</td>\n",
       "      <td>1014.0</td>\n",
       "      <td>-16.9</td>\n",
       "      <td>1.1</td>\n",
       "      <td>0.866025</td>\n",
       "      <td>-5.000000e-01</td>\n",
       "    </tr>\n",
       "  </tbody>\n",
       "</table>\n",
       "</div>"
      ],
      "text/plain": [
       "   PM2.5   PM10   SO2    NO2      CO   O3  TEMP    PRES  DEWP  WSPM   day_sin  \\\n",
       "0  118.0  147.0  58.0  100.0  2000.0  2.0  -5.0  1021.0 -17.2   0.7  0.866025   \n",
       "1  137.0  179.0  63.0  101.0  2100.0  2.0  -6.0  1018.0 -14.3   0.7  0.965926   \n",
       "2  141.0  215.0  59.0  100.0  2300.0  2.0  -7.0  1016.0 -15.9   0.4  1.000000   \n",
       "3  136.0  158.0  65.0  106.0  3000.0  2.0  -7.0  1016.0 -12.7   0.4  0.965926   \n",
       "4  132.0  163.0  56.0  107.0  3000.0  2.0  -6.0  1014.0 -16.9   1.1  0.866025   \n",
       "\n",
       "        day_cos  \n",
       "0  5.000000e-01  \n",
       "1  2.588190e-01  \n",
       "2  7.285825e-12  \n",
       "3 -2.588190e-01  \n",
       "4 -5.000000e-01  "
      ]
     },
     "execution_count": 12,
     "metadata": {},
     "output_type": "execute_result"
    }
   ],
   "source": [
    "df = df.drop(['datetime'], axis=1)\n",
    "\n",
    "df.head()"
   ]
  },
  {
   "cell_type": "markdown",
   "id": "625e1164",
   "metadata": {},
   "source": [
    "## Split data "
   ]
  },
  {
   "cell_type": "code",
   "execution_count": 13,
   "id": "c781680b",
   "metadata": {
    "tags": []
   },
   "outputs": [
    {
     "data": {
      "text/plain": [
       "((13239, 12), (3783, 12), (1892, 12))"
      ]
     },
     "execution_count": 13,
     "metadata": {},
     "output_type": "execute_result"
    }
   ],
   "source": [
    "n = len(df)\n",
    "\n",
    "# Split 70:20:10 (train:validation:test)\n",
    "train_df = df[0:int(n*0.7)]\n",
    "val_df = df[int(n*0.7):int(n*0.9)]\n",
    "test_df = df[int(n*0.9):]\n",
    "\n",
    "train_df.shape, val_df.shape, test_df.shape"
   ]
  },
  {
   "cell_type": "markdown",
   "id": "07c72644",
   "metadata": {},
   "source": [
    "## Scale data "
   ]
  },
  {
   "cell_type": "code",
   "execution_count": 14,
   "id": "9fcc4055",
   "metadata": {
    "tags": []
   },
   "outputs": [],
   "source": [
    "from sklearn.preprocessing import MinMaxScaler\n",
    "\n",
    "scaler = MinMaxScaler()\n",
    "scaler.fit(train_df)\n",
    "\n",
    "train_df[train_df.columns] = scaler.transform(train_df[train_df.columns])\n",
    "val_df[val_df.columns] = scaler.transform(val_df[val_df.columns])\n",
    "test_df[test_df.columns] = scaler.transform(test_df[test_df.columns])"
   ]
  },
  {
   "cell_type": "code",
   "execution_count": null,
   "id": "b8d5f48a",
   "metadata": {},
   "outputs": [],
   "source": [
    "train_df.to_csv('../data/ex_train.csv', header=True, index=False)\n",
    "val_df.to_csv('../data/ex_val.csv', header=True, index=False)\n",
    "test_df.to_csv('../data/ex_test.csv', header=True, index=False)"
   ]
  },
  {
   "cell_type": "code",
   "execution_count": null,
   "id": "0c86af6b",
   "metadata": {},
   "outputs": [],
   "source": []
  }
 ],
 "metadata": {
  "kernelspec": {
   "display_name": "Python 3 (ipykernel)",
   "language": "python",
   "name": "python3"
  },
  "language_info": {
   "codemirror_mode": {
    "name": "ipython",
    "version": 3
   },
   "file_extension": ".py",
   "mimetype": "text/x-python",
   "name": "python",
   "nbconvert_exporter": "python",
   "pygments_lexer": "ipython3",
   "version": "3.9.16"
  }
 },
 "nbformat": 4,
 "nbformat_minor": 5
}
